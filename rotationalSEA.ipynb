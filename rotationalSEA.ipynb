{
 "cells": [
  {
   "cell_type": "code",
   "execution_count": 27,
   "metadata": {
    "collapsed": false
   },
   "outputs": [
    {
     "name": "stdout",
     "output_type": "stream",
     "text": [
      "The autoreload extension is already loaded. To reload it, use:\n",
      "  %reload_ext autoreload\n"
     ]
    }
   ],
   "source": [
    "# Global setup\n",
    "%load_ext autoreload\n",
    "%autoreload 2\n",
    "import numpy as np\n",
    "import matplotlib.pyplot as plt\n",
    "import control\n",
    "import scipy\n",
    "import scipy.linalg\n",
    "% matplotlib inline"
   ]
  },
  {
   "cell_type": "code",
   "execution_count": 19,
   "metadata": {
    "collapsed": true
   },
   "outputs": [],
   "source": [
    "linkMass = 1.0\n",
    "motorMass = 0.5\n",
    "springK = 50.0\n",
    "numLinks = 1"
   ]
  },
  {
   "cell_type": "code",
   "execution_count": 62,
   "metadata": {
    "collapsed": false
   },
   "outputs": [],
   "source": [
    "# want to compute the equations of motions for an SEA system.\n",
    "def singleSEA():\n",
    "    \n",
    "    d = dict()\n",
    "    d_link = dict()\n",
    "    d_sea = dict()\n",
    "    \n",
    "    # link Model\n",
    "    # x = [q,q_dot]\n",
    "    # x = Ax + B tau\n",
    "    A_link = 1.0*np.array([[0,1],[0,0]])\n",
    "    B_link = 1.0*np.array([0, 1.0/linkMass])\n",
    "    \n",
    "    d_link['A'] = A_link\n",
    "    d_link['B'] = B_link\n",
    "    d_link['C'] = np.eye(2)\n",
    "    d_link['D'] = np.zeros(2)\n",
    "    \n",
    "    # SEA model. Locked output assumption with x = [tau, tau_dot]\n",
    "    # here tau = K(theta - q)\n",
    "    # know B_motor * theta_ddot + K(theta - q) = tau_m\n",
    "    # locked output assumption tells us that tau_dot = K theta_dot, tau_ddot = K theta_ddot\n",
    "    # so then B_motor/springK * tau_ddot + tau = tau_m\n",
    "    \n",
    "    M_tau = motorMass/springK\n",
    "    A_tau = 1.0*np.array([[0,1],[-1.0/M_tau,0]])\n",
    "    B_tau = 1.0*np.array([0, 1.0/M_tau])\n",
    "    \n",
    "    d_sea['A'] = A_tau\n",
    "    d_sea['B'] = B_tau\n",
    "    d_sea['C'] = np.eye(2)\n",
    "    d_sea['D'] = np.zeros(2)\n",
    "    \n",
    "    d['link'] = d_link\n",
    "    d['sea'] = d_sea\n",
    "    \n",
    "    # now compute the complete equations\n",
    "    # linkMass * qddot = K(theta - q)\n",
    "    # motorMass * thetaddot = -K(theta - q) + tau_m\n",
    "    H = np.diag([linkMass, motorMass])\n",
    "    \n",
    "#     print \"C\", C\n",
    "    \n",
    "    K = springK*np.array([-1,1,0,0])\n",
    "    KStacked = np.vstack((K,-K))\n",
    "#     print \"KStacked\", KStacked\n",
    "    \n",
    "    ALower = np.dot(np.linalg.inv(H),KStacked)\n",
    "    AUpper = np.hstack((np.zeros((2,2)), np.eye(2)))\n",
    "#     print \"AUpper\", AUpper\n",
    "#     print \"np.shape(ALowerLeft)\", np.shape(ALower)\n",
    "    \n",
    "    A_total = np.vstack((AUpper, ALower))\n",
    "    B_total = np.array([0,0,0,1/motorMass])\n",
    "    \n",
    "    d_total = {}\n",
    "    d_total['A'] = A_total\n",
    "    d_total['B'] = B_total\n",
    "    d_total['C'] = np.eye(4,4)\n",
    "    d_total['D'] = np.zeros(4)\n",
    "    d['total'] = d_total\n",
    "    \n",
    "    return d\n",
    "\n",
    "def createStateSpaceWithCopy(A,B,C,D):\n",
    "    \n",
    "    array = (A,B,C,D)\n",
    "    m = []\n",
    "    for i in xrange(0,4):\n",
    "        matrix = np.asmatrix(np.copy(np.array(array[i])))\n",
    "#         print type(matrix)\n",
    "        m.append(matrix)\n",
    "    \n",
    "    sys = control.StateSpace(m[0], m[1], m[2], m[3])\n",
    "#     print type(sys.A)\n",
    "    return sys\n",
    "\n",
    "\n",
    "def computeLQRCost(xout, uout, Q, R):\n",
    "    uCost = np.dot(np.dot(uout.transpose(),R),uout)\n",
    "    xCost = np.dot(np.dot(xout.transpose(),Q),xout)\n",
    "    return uCost + xCost"
   ]
  },
  {
   "cell_type": "code",
   "execution_count": 33,
   "metadata": {
    "collapsed": false
   },
   "outputs": [],
   "source": [
    "## params\n",
    "linkQ_lqr = np.diag((100,50))\n",
    "linkR_lqr = 5.0*np.eye(1)\n",
    "\n",
    "seaQ_lqr = np.diag((100,50))\n",
    "seaR_lqr = 5.0*np.eye(1)"
   ]
  },
  {
   "cell_type": "code",
   "execution_count": 22,
   "metadata": {
    "collapsed": false
   },
   "outputs": [
    {
     "name": "stdout",
     "output_type": "stream",
     "text": [
      "A [[ 0.  1.]\n",
      " [ 0.  0.]]\n",
      "B [[ 0.]\n",
      " [ 1.]]\n",
      "C [[ 1.  0.]\n",
      " [ 0.  1.]]\n",
      "D [[ 0.]\n",
      " [ 0.]]\n",
      "Q [[100   0]\n",
      " [  0   1]]\n",
      "R [[ 1.]]\n",
      "K [[10.          4.58257569]]\n",
      "<class 'numpy.matrixlib.defmatrix.matrix'>\n",
      "(1, 100)\n",
      "lqr gain matrix is [[10.          4.58257569]]\n"
     ]
    },
    {
     "data": {
      "image/png": "[encoded data removed]",
      "text/plain": [
       "<matplotlib.figure.Figure at 0x7f3be96f44d0>"
      ]
     },
     "metadata": {},
     "output_type": "display_data"
    },
    {
     "data": {
      "image/png": "[encoded data removed]",
      "text/plain": [
       "<matplotlib.figure.Figure at 0x7f3bc4190ed0>"
      ]
     },
     "metadata": {},
     "output_type": "display_data"
    }
   ],
   "source": [
    "# Link System\n",
    "\n",
    "verbose = True;\n",
    "\n",
    "d = singleSEA()\n",
    "d_sea = d['sea']\n",
    "d_link = d['link']\n",
    "A = d_link['A']\n",
    "B = np.reshape(d_link['B'], (2,1))\n",
    "C = d_link['C']\n",
    "D = np.reshape(d_link['D'],(2,1))\n",
    "B = np.reshape(B,(2,1))\n",
    "\n",
    "if verbose:\n",
    "    print \"A\", A\n",
    "    print \"B\", B\n",
    "    print \"C\", C\n",
    "    print \"D\", D\n",
    "    \n",
    "linkSys = control.StateSpace(A,B,C,D)\n",
    "\n",
    "\n",
    "Q = linkQ_lqr\n",
    "R = linkR_lqr\n",
    "K = control.lqr(linkSys, Q, R)[0]\n",
    "\n",
    "if verbose:\n",
    "    print \"Q\", Q\n",
    "    print \"R\", R\n",
    "    print \"K\", K\n",
    "\n",
    "\n",
    "# create system that implements the LQR controller\n",
    "lqrControllerLink = control.StateSpace(1,0*K,0,K)\n",
    "lqrControllerLink.dt = 0\n",
    "\n",
    "print type(lqrControllerLink.A)\n",
    "\n",
    "# feedback the two systems\n",
    "linkFeedback = control.feedback(linkSys, sys2=lqrControllerLink, sign=-1)\n",
    "linkFeedback.dt = 0\n",
    "\n",
    "# print linkSys.inputs\n",
    "# print linkSys.states\n",
    "# print linkFeedback.inputs\n",
    "# print linkFeedback.outputs\n",
    "# print linkFeedback.states\n",
    "\n",
    "# simulate this feedback\n",
    "X0 = np.array([1,0,0]) # initial condition\n",
    "T = np.linspace(0,5,100)\n",
    "T, yout, xout = control.forced_response(linkFeedback, T, X0=X0)\n",
    "\n",
    "tau_d = np.dot(-K,xout[0:2,:])\n",
    "print np.shape(tau_d)\n",
    "\n",
    "# plot the output\n",
    "plt.plot(T,xout[0,:], label='q')\n",
    "plt.plot(T,xout[1,:], label='qdot')\n",
    "plt.legend()\n",
    "\n",
    "plt.figure()\n",
    "plt.plot(T,tau_d.T, label='tau_d')\n",
    "plt.legend()\n",
    "\n",
    "print \"lqr gain matrix is\", K"
   ]
  },
  {
   "cell_type": "code",
   "execution_count": 23,
   "metadata": {
    "collapsed": false
   },
   "outputs": [
    {
     "data": {
      "image/png": "[encoded data removed]",
      "text/plain": [
       "<matplotlib.figure.Figure at 0x7f3bc4262dd0>"
      ]
     },
     "metadata": {},
     "output_type": "display_data"
    },
    {
     "data": {
      "image/png": "[encoded data removed]",
      "text/plain": [
       "<matplotlib.figure.Figure at 0x7f3bc42486d0>"
      ]
     },
     "metadata": {},
     "output_type": "display_data"
    },
    {
     "data": {
      "image/png": "[encoded data removed]",
      "text/plain": [
       "<matplotlib.figure.Figure at 0x7f3bc40ab050>"
      ]
     },
     "metadata": {},
     "output_type": "display_data"
    }
   ],
   "source": [
    "# create the SEA sys\n",
    "# This is the locked output system\n",
    "verbose = False\n",
    "\n",
    "d_sea = d['sea']\n",
    "A = d_sea['A']\n",
    "B = np.reshape(d_sea['B'], (2,1))\n",
    "C = d_sea['C']\n",
    "D = np.reshape(d_sea['D'],(2,1))\n",
    "SEAsys = control.StateSpace(A,B,C,D,0)\n",
    "\n",
    "# get an LQR controller\n",
    "Q = seaQ_lqr\n",
    "R = seaR_lqr\n",
    "\n",
    "KSEA = control.lqr(SEAsys, Q, R)[0]\n",
    "lqrControllerSEA = control.StateSpace(1,0*KSEA,0,KSEA)\n",
    "lqrControllerSEA.dt = 0\n",
    "\n",
    "seaFeedback = control.feedback(SEAsys, sys2=lqrControllerSEA, sign=-1)\n",
    "seaFeedback.dt = 0\n",
    "# simulate this feedback\n",
    "X0 = [10,0] # initial condition, note extra 0 due to \"state\" of controller\n",
    "X0_controller = [0]*lqrControllerSEA.states\n",
    "X0_complete  = X0 + X0_controller\n",
    "T = np.linspace(0,2,100)\n",
    "T, yout, xout = control.forced_response(seaFeedback, T, X0=X0_complete)\n",
    "\n",
    "\n",
    "# plot the output\n",
    "plt.figure()\n",
    "plt.plot(T,xout[0,:], label='tau')\n",
    "plt.plot(T,xout[1,:], label='tau_dot')\n",
    "plt.legend()\n",
    "\n",
    "plt.figure()\n",
    "tau_m = -np.dot(KSEA,xout[0:2,:])\n",
    "plt.plot(T,tau_m.T, label='tau_m')\n",
    "plt.legend()\n",
    "\n",
    "\n",
    "xdot = np.dot(A,xout[0:2,:]) + np.dot(B,tau_m)\n",
    "plt.figure()\n",
    "plt.plot(T,xdot[1,:], label='tau_ddot')\n",
    "plt.legend()\n",
    "\n",
    "if verbose:\n",
    "    print A\n",
    "    print B\n",
    "    print \"lqr gain matrix\", KSEA\n",
    "\n",
    "    print lqrControllerSEA.D\n",
    "    print KSEA"
   ]
  },
  {
   "cell_type": "code",
   "execution_count": 63,
   "metadata": {
    "collapsed": false
   },
   "outputs": [
    {
     "name": "stdout",
     "output_type": "stream",
     "text": [
      "Q [[ 100.    0.    0.    0.]\n",
      " [   0.  100.    0.    0.]\n",
      " [   0.    0.   50.    0.]\n",
      " [   0.    0.    0.   50.]]\n",
      "R [[ 5.]]\n"
     ]
    },
    {
     "data": {
      "text/plain": [
       "<matplotlib.legend.Legend at 0x7f3bc39dfa90>"
      ]
     },
     "execution_count": 63,
     "metadata": {},
     "output_type": "execute_result"
    },
    {
     "data": {
      "image/png": "[encoded data removed]",
      "text/plain": [
       "<matplotlib.figure.Figure at 0x7f3bc44a6410>"
      ]
     },
     "metadata": {},
     "output_type": "display_data"
    },
    {
     "data": {
      "image/png": "[encoded data removed]",
      "text/plain": [
       "<matplotlib.figure.Figure at 0x7f3bc3898ad0>"
      ]
     },
     "metadata": {},
     "output_type": "display_data"
    }
   ],
   "source": [
    "verbose = True\n",
    "\n",
    "# Simulate the big system with the full lqrController\n",
    "d_total = d['total']\n",
    "A = d_total['A']\n",
    "B = np.reshape(d_total['B'], (4,1))\n",
    "C = d_total['C']\n",
    "D = np.reshape(d_total['D'], (4,1))\n",
    "\n",
    "\n",
    "\n",
    "# this is the full joint + motor system\n",
    "sys = control.StateSpace(A,B,C,D)\n",
    "\n",
    "# construct Q matrix from linkQ_lqr and seaQ_lqr\n",
    "n = numLinks\n",
    "Q = np.zeros((4*n,4*n))\n",
    "for i in xrange(0,n):\n",
    "    Q[i,i] = linkQ_lqr[i,i]\n",
    "    Q[2*n +i, 2*n + i] = linkQ_lqr[n+i,n+i]\n",
    "    \n",
    "    Q[n+i,n+i] = seaQ_lqr[i,i]\n",
    "    Q[3*n+i,3*n+i] = seaQ_lqr[n+i,n+i]\n",
    "\n",
    "    \n",
    "if False:\n",
    "    Q[1,1] = 10.0\n",
    "    QLinkCost = 100*np.eye(2*numLinks)\n",
    "    QSEACost = 50*np.eye(2*numLinks)\n",
    "    Q = scipy.linalg.block_diag(QLinkCost, QSEACost)\n",
    "    Q = 100*np.eye(4*numLinks)\n",
    "    \n",
    "R = seaR_lqr\n",
    "\n",
    "if verbose:\n",
    "    print \"Q\", Q\n",
    "    print \"R\", R\n",
    "    \n",
    "K = control.lqr(sys,Q,R)[0]\n",
    "lqrController = control.StateSpace(1,0*K,[0],K, 0)\n",
    "\n",
    "\n",
    "feedbackSys = control.feedback(sys, sys2=lqrController, sign=-1)\n",
    "feedbackSys.dt = 0\n",
    "\n",
    "\n",
    "X0 = [1,1,0,0] # initial condition\n",
    "X0_controller = [0]*lqrController.states\n",
    "X0_complete  = X0 + X0_controller\n",
    "T = np.linspace(0,6,100)\n",
    "T, yout, xout = control.forced_response(feedbackSys, T, X0=X0_complete)\n",
    "\n",
    "plt.figure()\n",
    "plt.plot(T,xout[0,:], label='q')\n",
    "plt.plot(T,xout[1,:], label='theta')\n",
    "plt.legend()\n",
    "\n",
    "plt.figure()\n",
    "plt.plot(T,springK*(xout[1,:] - xout[0,:]), label='tau')\n",
    "plt.legend()\n",
    "\n",
    "print \n"
   ]
  },
  {
   "cell_type": "code",
   "execution_count": 56,
   "metadata": {
    "collapsed": false
   },
   "outputs": [
    {
     "name": "stdout",
     "output_type": "stream",
     "text": [
      "D_tau [[-50.  50.   0.   0.]]\n",
      "D_taudot [[  0.   0. -50.  50.]]\n",
      "D_tau_d [[-10.          0.         -4.58257569  0.        ]]\n",
      "D [[-10.           0.          -4.58257569   0.        ]\n",
      " [-50.          50.           0.           0.        ]\n",
      " [  0.           0.         -50.          50.        ]]\n",
      "y is [[-1.  1.  0.]\n",
      " [ 0.  0.  1.]]\n",
      "D_2 is [[ 3.58257569 -3.58257569 -0.52120199]]\n",
      "yout.shape (4, 100)\n",
      "controllerSys.states 2\n",
      "np.shape(xout) (4, 100)\n"
     ]
    },
    {
     "data": {
      "image/png": "[encoded data removed]",
      "text/plain": [
       "<matplotlib.figure.Figure at 0x7f3bc3edf710>"
      ]
     },
     "metadata": {},
     "output_type": "display_data"
    },
    {
     "data": {
      "image/png": "[encoded data removed]",
      "text/plain": [
       "<matplotlib.figure.Figure at 0x7f3bc415d210>"
      ]
     },
     "metadata": {},
     "output_type": "display_data"
    },
    {
     "data": {
      "image/png": "[encoded data removed]",
      "text/plain": [
       "<matplotlib.figure.Figure at 0x7f3bc396dd90>"
      ]
     },
     "metadata": {},
     "output_type": "display_data"
    }
   ],
   "source": [
    "# simulate the full system with the cascaded controller\n",
    "\n",
    "# outerController\n",
    "# input: x\n",
    "# output: [tau_d, tau, K theta_dot]\n",
    "\n",
    "verbose = True;\n",
    "\n",
    "n = numLinks # number of links\n",
    "D_tau_d = np.zeros((n,4*n))\n",
    "D_tau_d[0:n,0:n] = -lqrControllerLink.D[:,0:n] # q terms\n",
    "D_tau_d[0:n,2*n:3*n] = -lqrControllerLink.D[:,n:] # qdot terms\n",
    "\n",
    "\n",
    "\n",
    "helperMatrix = np.zeros((n,2*n))\n",
    "for i in xrange(0,n):\n",
    "    helperMatrix[i,i] = -springK\n",
    "    helperMatrix[i,i+n] = springK\n",
    "\n",
    "# compute the joint torques\n",
    "D_tau = np.zeros((n,4*n))\n",
    "D_tau[0:n,0:2*n] = helperMatrix\n",
    "\n",
    "\n",
    "D_taudot = np.zeros((n,4*n))\n",
    "D_taudot[:,2*n:] = helperMatrix\n",
    "\n",
    "\n",
    "# D is 3n x 4n\n",
    "D = np.vstack((D_tau_d,D_tau,D_taudot))\n",
    "\n",
    "print \"D_tau\", D_tau\n",
    "print \"D_taudot\", D_taudot\n",
    "print \"D_tau_d\", D_tau_d\n",
    "print \"D\", D\n",
    "\n",
    "m = 1 # num fictitious states\n",
    "A = np.ones((m,m))\n",
    "B = np.zeros((m,np.shape(D)[1]))\n",
    "C = np.zeros((np.shape(D)[0],m))\n",
    "\n",
    "\n",
    "# takes in q,theta,qdot,thetadot\n",
    "# outputs [tau_d, tau, tau_dot]\n",
    "outerController = control.StateSpace(A,B,C,D)\n",
    "\n",
    "\n",
    "# innerController\n",
    "# input: outerController.output = [tau_d, tau, tau_dot]\n",
    "# output: tau_m, which is the motor torque command\n",
    "\n",
    "# innerController will be connected in series with the outerController\n",
    "\n",
    "# again will only have D\n",
    "\n",
    "# ultimately D_inner should be n x 3n\n",
    "D_1 = np.zeros((n,3*n))\n",
    "D_1[:,0:n] = np.eye(n)\n",
    "\n",
    "\n",
    "# y takes [tau_d, tau, tau_dot] --> [tau - tau_d, tau_dot]\n",
    "y = 1.0*np.zeros((2*n,3*n))\n",
    "y[0:n,0:n] = -np.eye(n) # tau_d\n",
    "y[0:n,n:2*n] = np.eye(n) # tau\n",
    "y[n:,2*n:] = np.eye(n) # tau_dot\n",
    "\n",
    "if verbose:\n",
    "    print \"y is\", y\n",
    "\n",
    "\n",
    "# takes in [tau_d,tau,tau_dot] and applies the SEA level LQR controller\n",
    "D_2 = np.dot(-lqrControllerSEA.D, y)\n",
    "\n",
    "if verbose:\n",
    "    print \"D_2 is\", D_2\n",
    "\n",
    "# just adds back tau_d to get tau_motor\n",
    "# tau_motor = tau_d  - K_SEA*[tau - tau_d, tau_dot]\n",
    "D_inner = D_1 + D_2;\n",
    "\n",
    "m = 1 # num fictitious states, just so control toolbox doesn't do something stupid\n",
    "A = np.ones((m,m))\n",
    "B = np.zeros((m,np.shape(D_inner)[1]))\n",
    "C = np.zeros((np.shape(D_inner)[0],m))\n",
    "\n",
    "innerController = control.StateSpace(A,B,C,D_inner,0)\n",
    "\n",
    "\n",
    "# to make the controller just need to series connect outerController -> innerController\n",
    "controllerSys = control.series(outerController, innerController)\n",
    "\n",
    "# now want to feedback the controller and the plant\n",
    "feedbackDecoupledSys = control.feedback(sys, sys2=controllerSys, sign=1)\n",
    "\n",
    "\n",
    "X0 = [1,1,0,0] # initial condition, link and motor both at position 1\n",
    "X0_controller = [0]*controllerSys.states # add in the fictitious controller states\n",
    "X0_complete  = X0 + X0_controller\n",
    "T = np.linspace(0,5,100)\n",
    "T, yout, xout_full = control.forced_response(feedbackDecoupledSys, T, X0=X0_complete)\n",
    "\n",
    "if verbose:\n",
    "    print \"yout.shape\", yout.shape\n",
    "    print \"controllerSys.states\", controllerSys.states\n",
    "\n",
    "    \n",
    "xout = xout_full[0:(4*n),:]\n",
    "tau = np.dot(D_tau, xout)\n",
    "tau_dot = np.dot(D_taudot, xout)\n",
    "tau_d = np.dot(D_tau_d, xout)\n",
    "theta_d = xout[0,:] + tau_d/springK\n",
    "tau_bar = tau - tau_d\n",
    "tau_m = np.dot(controllerSys.D, xout[0:4,:])\n",
    "\n",
    "\n",
    "plt.plot(T,xout[0,:], label='q')\n",
    "plt.plot(T,xout[1,:], label='theta')\n",
    "# plt.plot(T,theta_d.T, label='theta_d')\n",
    "# plt.plot(T,xout[3,:], label='theta_dot')\n",
    "plt.legend()\n",
    "\n",
    "\n",
    "plt.figure()\n",
    "plt.plot(T, tau_d.T, label='tau_d')\n",
    "\n",
    "tau = np.dot(D_tau, xout[0:4,:])\n",
    "plt.plot(T,tau.T, label='tau')\n",
    "\n",
    "\n",
    "\n",
    "plt.plot(T,tau_bar.T, label='tau_bar')\n",
    "\n",
    "plt.title('tau_d and tau')\n",
    "plt.legend()\n",
    "\n",
    "\n",
    "plt.figure()\n",
    "plt.plot(T,tau_m.T)\n",
    "plt.title('tau_m')\n",
    "\n",
    "# plt.figure()\n",
    "# # KthetaDot = springK*x[3,:]\n",
    "# plt.plot(T,xout[3,:], label='theta_dot')\n",
    "# plt.legend()\n",
    "\n",
    "\n",
    "if verbose:\n",
    "    print \"np.shape(xout)\", np.shape(xout)\n"
   ]
  },
  {
   "cell_type": "code",
   "execution_count": 47,
   "metadata": {
    "collapsed": false
   },
   "outputs": [
    {
     "name": "stdout",
     "output_type": "stream",
     "text": [
      "D_tau [[-50. -50.   0.   0.]]\n",
      "D_taudot [[  0.   0. -50. -50.]]\n"
     ]
    }
   ],
   "source": [
    "# this is only for testing\n",
    "\n",
    "# input: x\n",
    "# output: [tau_d, tau, K theta_dot]\n",
    "\n",
    "verbose = True;\n",
    "\n",
    "n = numLinks # number of links\n",
    "D_tau_d = np.zeros((n,4*n))\n",
    "D_tau_d[0:n,0:n] = -lqrControllerLink.D[:,0:n] # q terms\n",
    "D_tau_d[0:n,2*n:3*n] = -lqrControllerLink.D[:,n:] # qdot terms\n",
    "\n",
    "\n",
    "\n",
    "helperMatrix = np.zeros((n,2*n))\n",
    "for i in xrange(0,n):\n",
    "    helperMatrix[i,i] = -springK\n",
    "    helperMatrix[i,i+n] = -springK\n",
    "\n",
    "# compute the joint torques\n",
    "D_tau = np.zeros((n,4*n))\n",
    "D_tau[0:n,0:2*n] = helperMatrix\n",
    "\n",
    "\n",
    "D_taudot = np.zeros((n,4*n))\n",
    "D_taudot[:,2*n:] = helperMatrix\n",
    "\n",
    "\n",
    "print \"D_tau\", D_tau\n",
    "print \"D_taudot\", D_taudot\n"
   ]
  },
  {
   "cell_type": "code",
   "execution_count": 60,
   "metadata": {
    "collapsed": false
   },
   "outputs": [
    {
     "name": "stdout",
     "output_type": "stream",
     "text": [
      "[[1 3]\n",
      " [2 4]]\n",
      "[[1 2]\n",
      " [3 4]]\n"
     ]
    }
   ],
   "source": [
    "a = np.array([[1,2],[3,4]])\n",
    "print a.transpose()\n",
    "print a"
   ]
  },
  {
   "cell_type": "code",
   "execution_count": null,
   "metadata": {
    "collapsed": true
   },
   "outputs": [],
   "source": []
  }
 ],
 "metadata": {
  "kernelspec": {
   "display_name": "Python 2",
   "language": "python",
   "name": "python2"
  },
  "language_info": {
   "codemirror_mode": {
    "name": "ipython",
    "version": 2
   },
   "file_extension": ".py",
   "mimetype": "text/x-python",
   "name": "python",
   "nbconvert_exporter": "python",
   "pygments_lexer": "ipython2",
   "version": "2.7.6"
  }
 },
 "nbformat": 4,
 "nbformat_minor": 0
}
